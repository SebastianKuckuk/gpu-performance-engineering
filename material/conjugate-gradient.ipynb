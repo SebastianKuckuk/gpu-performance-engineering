{
 "cells": [
  {
   "cell_type": "markdown",
   "id": "1bfb2b71",
   "metadata": {},
   "source": [
    "# Test Case: Conjugate Gradient"
   ]
  },
  {
   "cell_type": "markdown",
   "id": "52b8c860",
   "metadata": {},
   "source": [
    "In this lab, we extend our 'numerical solver' implemented with matrix-free Jacobi iterations using the conjugate gradient method.\n",
    "Being familiar with the algorithm on a deeper level is not necessary, but in case you are interested have a look at, e.g., this [wikipedia article](https://en.wikipedia.org/wiki/Conjugate_gradient_method#The_resulting_algorithm).\n",
    "The linked page also shows an outline of the algorithm implemented which builds on the following building blocks:\n",
    "* matrix-vector products (i.e. stencil applications)\n",
    "* other vector operations such as scaling and addition (i.e. similar to the stream pattern)\n",
    "* vector dot products (i.e. reductions)\n",
    "\n",
    "Since this algorithm includes multiple steps, we first augment our baseline implementation with markers to make subsequent performance analysis easier."
   ]
  },
  {
   "cell_type": "markdown",
   "id": "5aca2c99",
   "metadata": {
    "jp-MarkdownHeadingCollapsed": true,
    "tags": []
   },
   "source": [
    "## NVTX markers"
   ]
  },
  {
   "cell_type": "markdown",
   "id": "c99a587f",
   "metadata": {},
   "source": [
    "\n",
    "We start by adding markers provided by the **NVidia Tools eXtensions library (NVTX)**.\n",
    "The project is [open source](https://github.com/NVIDIA/NVTX) and well [documented](https://nvidia.github.io/NVTX/doxygen-cpp/).\n",
    "\n",
    "The Nvidia HPC SDK (NVHPC) includes versions of NVTX.\n",
    "Depending on the features required, this might already be sufficient.\n",
    "For this course, however, we rely on using the latest version directly.\n",
    "To obtain it, execute the following command once.\n",
    "Since it is a **header-only library** no additional steps are necessary."
   ]
  },
  {
   "cell_type": "code",
   "execution_count": null,
   "id": "e055ffa9",
   "metadata": {},
   "outputs": [],
   "source": [
    "!cd ~ && \\\n",
    "    git clone https://github.com/NVIDIA/NVTX.git"
   ]
  },
  {
   "cell_type": "markdown",
   "id": "c4080ed5",
   "metadata": {},
   "source": [
    "Other paths are of course also possible in practice, but the remainder of this lab builds on this default choice."
   ]
  },
  {
   "cell_type": "markdown",
   "id": "5e842202",
   "metadata": {},
   "source": [
    "After preparation, the next steps are adding the necessary header and modifying the code.\n",
    "\n",
    "```cpp\n",
    "#include <nvtx3/nvtx3.hpp>\n",
    "```\n",
    "\n",
    "The course material includes a CPU serial base version as well as GPU-accelerated versions based on CUDA, OpenMP and OpenACC.\n",
    "The base and CUDA versions already include the discussed changes.\n",
    "Review them to see examples of using NVTX in practice."
   ]
  },
  {
   "cell_type": "markdown",
   "id": "dac77f78",
   "metadata": {},
   "source": [
    "* [cg-base.cpp](../src/cg/cg-base.cpp),\n",
    "* [cg-cuda-mm.cu](../src/cg/cg-cuda-mm.cu),\n",
    "* [cg-omp-target-mm.cpp](../src/cg/cg-omp-target-mm.cpp), and\n",
    "* [cg-openacc-mm.cpp](../src/cg/cg-openacc-mm.cpp).\n",
    "\n",
    "As before, parameterization via command line arguments is possible:\n",
    "- **Data type**: `float` or `double`\n",
    "- **nx, ny**: Grid dimensions, scaling the total workload (`nx * ny`)\n",
    "- **nWarmUp**: Number of non-timed warm-up iterations\n",
    "- **nIt**: Number of timed iterations\n",
    "\n",
    "Compilation, execution and profiling with Nsight Systems can be done with the below cells."
   ]
  },
  {
   "cell_type": "markdown",
   "id": "5fad3899",
   "metadata": {
    "jp-MarkdownHeadingCollapsed": true,
    "tags": []
   },
   "source": [
    "### Base"
   ]
  },
  {
   "cell_type": "code",
   "execution_count": null,
   "id": "5febe716",
   "metadata": {},
   "outputs": [],
   "source": [
    "!nvc++ -O3 -march=native -std=c++17 -I$HOME/NVTX/c/include ../src/cg/cg-base.cpp -o ../build/cg-base"
   ]
  },
  {
   "cell_type": "code",
   "execution_count": null,
   "id": "722c5c70",
   "metadata": {},
   "outputs": [],
   "source": [
    "!../build/cg-base double 8192 8192 2 16"
   ]
  },
  {
   "cell_type": "code",
   "execution_count": null,
   "id": "d864687f",
   "metadata": {},
   "outputs": [],
   "source": [
    "!nsys profile --stats=true -o ../profiles/cg-base --force-overwrite=true ../build/cg-base double 8192 8192 2 16"
   ]
  },
  {
   "cell_type": "markdown",
   "id": "45735cfc",
   "metadata": {
    "jp-MarkdownHeadingCollapsed": true,
    "tags": []
   },
   "source": [
    "### CUDA"
   ]
  },
  {
   "cell_type": "code",
   "execution_count": null,
   "id": "790a5bdb",
   "metadata": {},
   "outputs": [],
   "source": [
    "!nvc++ -O3 -fast -std=c++17 -I$HOME/NVTX/c/include -o ../build/cg-cuda-mm ../src/cg/cg-cuda-mm.cu"
   ]
  },
  {
   "cell_type": "code",
   "execution_count": null,
   "id": "33409d4b",
   "metadata": {},
   "outputs": [],
   "source": [
    "!../build/cg-cuda-mm double 8192 8192 2 16"
   ]
  },
  {
   "cell_type": "code",
   "execution_count": null,
   "id": "626d1563",
   "metadata": {},
   "outputs": [],
   "source": [
    "!nsys profile --stats=true -o ../profiles/cg-cuda-mm --force-overwrite=true ../build/cg-cuda-mm double 8192 8192 2 16"
   ]
  },
  {
   "cell_type": "markdown",
   "id": "9beb8c79",
   "metadata": {
    "jp-MarkdownHeadingCollapsed": true,
    "tags": []
   },
   "source": [
    "### OpenMP"
   ]
  },
  {
   "cell_type": "code",
   "execution_count": null,
   "id": "cea87971",
   "metadata": {},
   "outputs": [],
   "source": [
    "!nvc++ -O3 -std=c++17 -I$HOME/NVTX/c/include -mp=gpu -target=gpu -gpu=managed -o ../build/cg-omp-target-mm ../src/cg/cg-omp-target-mm.cpp"
   ]
  },
  {
   "cell_type": "code",
   "execution_count": null,
   "id": "f94316e2",
   "metadata": {},
   "outputs": [],
   "source": [
    "!../build/cg-omp-target-mm double 8192 8192 2 16"
   ]
  },
  {
   "cell_type": "code",
   "execution_count": null,
   "id": "cbd5ff07",
   "metadata": {},
   "outputs": [],
   "source": [
    "!nsys profile --stats=true -o ../profiles/cg-omp-target-mm --force-overwrite=true ../build/cg-omp-target-mm double 8192 8192 2 16"
   ]
  },
  {
   "cell_type": "markdown",
   "id": "91a7a1e0",
   "metadata": {
    "jp-MarkdownHeadingCollapsed": true,
    "tags": []
   },
   "source": [
    "### OpenACC"
   ]
  },
  {
   "cell_type": "code",
   "execution_count": null,
   "id": "7df308f5",
   "metadata": {},
   "outputs": [],
   "source": [
    "!nvc++ -O3 -std=c++17 -I$HOME/NVTX/c/include -acc=gpu -target=gpu -gpu=managed -o ../build/cg-openacc-mm ../src/cg/cg-openacc-mm.cpp"
   ]
  },
  {
   "cell_type": "code",
   "execution_count": null,
   "id": "f294abb9",
   "metadata": {},
   "outputs": [],
   "source": [
    "!../build/cg-openacc-mm double 8192 8192 2 16"
   ]
  },
  {
   "cell_type": "code",
   "execution_count": null,
   "id": "9e1015d9",
   "metadata": {},
   "outputs": [],
   "source": [
    "!nsys profile --stats=true -o ../profiles/cg-openacc-mm --force-overwrite=true ../build/cg-openacc-mm double 8192 8192 2 16"
   ]
  },
  {
   "cell_type": "markdown",
   "id": "599aa2b4",
   "metadata": {
    "jp-MarkdownHeadingCollapsed": true,
    "tags": []
   },
   "source": [
    "## Exercise"
   ]
  },
  {
   "cell_type": "markdown",
   "id": "06f72c3e",
   "metadata": {},
   "source": [
    "This exercise is designed to be longer and to give you more flexibility in which techniques you want to experiment with.\n",
    "The baseline implementations are already partly GPU accelerated, but lack the desired performance.\n",
    "Your tasks are as follows:\n",
    "* Review the code(s) and choose one version (or create an independent one).\n",
    "* Profile the application and check the Nsight GUI command line output and timeline visualization for NVTX data.\n",
    "* Do some POD iterations.\n",
    "  * Profile: use Nsight Systems and Compute to isolate hot-spots and performance issues in the application.\n",
    "  * Optimize: implement performance optimizations to address bottlenecks.\n",
    "  * Deploy: check whether the results are still correct.\n",
    "* Add your performance result to the leaderboard."
   ]
  },
  {
   "cell_type": "markdown",
   "id": "302513af",
   "metadata": {},
   "source": [
    "Note that each GPU-accelerated version includes *performance bugs*.\n",
    "Apart from fixing them, here are some additional optimization ideas to get you started:\n",
    "* Optimize memory transfers\n",
    "* Optimize occupancy/ execution configurations\n",
    "* Perform reductions on GPU\n",
    "  * \\[CUDA\\]: use optimized reductions e.g. using CUB or thrust\n",
    "* Apply kernel fusion\n",
    "  * \\[CUDA\\]: apply additional kernel fusion using cooperative grids\n",
    "* Add alternating forwards-backwards kernels"
   ]
  },
  {
   "cell_type": "markdown",
   "id": "c1b6a80c",
   "metadata": {
    "jp-MarkdownHeadingCollapsed": true,
    "tags": []
   },
   "source": [
    "## Next Step"
   ]
  },
  {
   "cell_type": "markdown",
   "id": "8807448a",
   "metadata": {},
   "source": [
    "Congratulations on finishing this course!"
   ]
  },
  {
   "cell_type": "markdown",
   "id": "c68f8cca",
   "metadata": {},
   "source": [
    "If you want to dive deeper, here are some topics this course did not cover:\n",
    "* [NVIDIA CUDA Profiling Tools Interface (CUPTI)](https://developer.nvidia.com/cupti) provides means to profile applications programmatically.\n",
    "* [AMD Tools](https://github.com/ROCm/rocprofiler-sdk)\n",
    "  * Phase-out: `ROCTracer`, `ROCprofiler`, `rocprof`, and `rocprofv2`\n",
    "  * Upcoming: `ROCprofiler-SDK` and `rocprofv3`\n",
    "  * [ROCm Systems Profiler](https://github.com/ROCm/rocprofiler-compute) (formerly omnitrace), and [ROCm Compute Profiler](https://github.com/ROCm/rocprofiler-systems)"
   ]
  },
  {
   "cell_type": "markdown",
   "id": "8785694c",
   "metadata": {},
   "source": [
    "Here are some pointers if you want to further extend your GPU and HPC knowledge:\n",
    "* [NHR@FAU](https://nhr.fau.de) offers a number of courses on different HPC related topics\n",
    "  * [https://hpc.fau.de/teaching/tutorials-and-courses/](https://hpc.fau.de/teaching/tutorials-and-courses/)\n",
    "* Likewise, most compute centers offer a variety of different courses, many of them online and free of charge\n",
    "* Nvidia's [On-Demand Video Collection](https://www.nvidia.com/en-us/on-demand/) contains thousands of recordings of many insightful talks covering various GPU-related topics.\n",
    "* [GTC](https://www.nvidia.com/gtc/) is one of the premier conferences around GPU computing and virtual attendance is usually free of charge.\n"
   ]
  }
 ],
 "metadata": {
  "kernelspec": {
   "display_name": "Python 3 (ipykernel)",
   "language": "python",
   "name": "python3"
  },
  "language_info": {
   "codemirror_mode": {
    "name": "ipython",
    "version": 3
   },
   "file_extension": ".py",
   "mimetype": "text/x-python",
   "name": "python",
   "nbconvert_exporter": "python",
   "pygments_lexer": "ipython3",
   "version": "3.11.3"
  }
 },
 "nbformat": 4,
 "nbformat_minor": 5
}
