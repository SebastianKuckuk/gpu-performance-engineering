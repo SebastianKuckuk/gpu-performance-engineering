{
 "cells": [
  {
   "cell_type": "markdown",
   "id": "d6c4ffd7-d7f0-436a-a419-b328768fe081",
   "metadata": {},
   "source": [
    "# GPU Performance Engineering"
   ]
  },
  {
   "cell_type": "markdown",
   "id": "06e8d42d",
   "metadata": {},
   "source": [
    "This tutorial will explore how to evaluate and optimize the performance of GPU-accelerated codes.\n",
    "The goal is to:\n",
    "- Understand the expected optimal performance of your code.\n",
    "- Identify how far the actual performance deviates from the optimal.\n",
    "- Explore reasons for performance gaps and practical methods to bridge them."
   ]
  },
  {
   "cell_type": "markdown",
   "id": "98879a32",
   "metadata": {},
   "source": [
    "### What This Tutorial Covers"
   ]
  },
  {
   "cell_type": "markdown",
   "id": "300fd053",
   "metadata": {},
   "source": [
    "\n",
    "- **GPU architecture fundamentals:** Learn how GPUs are designed and how they execute code.\n",
    "- **Simplistic performance modeling:** Use basic models to predict performance characteristics.\n",
    "- **Micro-benchmarks:** Isolate specific hardware effects and understand performance limits.\n",
    "- **Performance engineering workflow:** Follow a structured process to optimize real-world applications.\n",
    "- **Tools and techniques:** Use NVIDIA tools such as Nsight Systems and Nsight Compute, and NVTX markers for profiling."
   ]
  },
  {
   "cell_type": "markdown",
   "id": "fbf54d59",
   "metadata": {},
   "source": [
    "### What This Tutorial Does NOT Cover"
   ]
  },
  {
   "cell_type": "markdown",
   "id": "d8bc49ad",
   "metadata": {},
   "source": [
    "- **Algorithm engineering:** While algorithm choice and tuning are critical, they are outside the scope of this tutorial."
   ]
  },
  {
   "cell_type": "markdown",
   "id": "c061a314",
   "metadata": {
    "jp-MarkdownHeadingCollapsed": true,
    "tags": []
   },
   "source": [
    "## What is Performance"
   ]
  },
  {
   "cell_type": "markdown",
   "id": "87ea6305",
   "metadata": {},
   "source": [
    "Performance is generally considered as the amount of useful work done per unit time.\n",
    "This can be captured as work done in a given time interval, or the time required to perform a fixed amount of work.\n",
    "\n",
    "Different performance *metrics* help evaluate and categorize performance:"
   ]
  },
  {
   "cell_type": "markdown",
   "id": "094e352c",
   "metadata": {},
   "source": [
    "### 1. Time-Based Metrics"
   ]
  },
  {
   "cell_type": "markdown",
   "id": "5dbf19bf",
   "metadata": {},
   "source": [
    "**Time to Solution (TTS)**: Measures total execution time.\n",
    "\n",
    "* ✅ Very easy to set up\n",
    "* ✅ Captures all effects at once\n",
    "* ❌ Captures all effects at once\n",
    "* ❌ Comparing different applications (or their parameterization) is challenging\n",
    "* ❌ Assessment of potential performance improvements is almost impossible\n",
    "\n",
    "**Iterations per Second (It/s)**: Normalizes execution time across a flexible iteration count."
   ]
  },
  {
   "cell_type": "markdown",
   "id": "49ebe950",
   "metadata": {},
   "source": [
    "### 2. Application-Specific Metrics"
   ]
  },
  {
   "cell_type": "markdown",
   "id": "e48c0b9c",
   "metadata": {},
   "source": [
    "**Mega Lattice Site Updates per Second (MLUPS)**: Measures updates per grid cell.\n",
    "\n",
    "* ✅ Allows comparing performance of different problem/ work sizes\n",
    "* ✅ Can be related to other metrics (see below) more easily\n",
    "* ❌ Limited insight into optimization potential"
   ]
  },
  {
   "cell_type": "markdown",
   "id": "278f6404",
   "metadata": {},
   "source": [
    "### 3. Hardware-Centric Metrics"
   ]
  },
  {
   "cell_type": "markdown",
   "id": "9fb7aff5",
   "metadata": {},
   "source": [
    "**Floating Point Operations per Second (FLOPS)**,\n",
    "**Integer Operations per Second (IOPS)**,\n",
    "**Instructions per Second (IPS)**, and\n",
    "**Memory Bandwidth (BW) - Bytes per Second**.\n",
    "\n",
    "* ✅ Allow estimation of performance limits\n",
    "* ✅ Enable performance *prediction* for different hardware platforms\n",
    "* ❌ Requires profiling tools or assumptions about workload (bytes transferred, etc.)\n",
    "* ❌ Relating profiling results and application can sometimes be challenging"
   ]
  },
  {
   "cell_type": "markdown",
   "id": "3a7c3a16",
   "metadata": {},
   "source": [
    "### Alternative Considerations"
   ]
  },
  {
   "cell_type": "markdown",
   "id": "7cbe9af5",
   "metadata": {},
   "source": [
    "Performance can also be measured in terms of *work per energy consumed*, which is crucial for power-efficient computing.\n",
    "And of course arbitrary other metrics are also conceivable, such as investment cost over energy to solution in USD per Joules."
   ]
  },
  {
   "cell_type": "markdown",
   "id": "938b0a3e",
   "metadata": {
    "jp-MarkdownHeadingCollapsed": true,
    "tags": []
   },
   "source": [
    "## Next Step"
   ]
  },
  {
   "cell_type": "markdown",
   "id": "d3f9c869",
   "metadata": {},
   "source": [
    "We start by investigating some of this metrics at the example of a straight-forward test case.\n",
    "Head over to the [Stencil Test Case](./stencil-test-case.ipynb) notebook to get started."
   ]
  }
 ],
 "metadata": {
  "kernelspec": {
   "display_name": "Python 3 (ipykernel)",
   "language": "python",
   "name": "python3"
  },
  "language_info": {
   "codemirror_mode": {
    "name": "ipython",
    "version": 3
   },
   "file_extension": ".py",
   "mimetype": "text/x-python",
   "name": "python",
   "nbconvert_exporter": "python",
   "pygments_lexer": "ipython3",
   "version": "3.11.3"
  }
 },
 "nbformat": 4,
 "nbformat_minor": 5
}
