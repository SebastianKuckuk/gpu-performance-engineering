{
 "cells": [
  {
   "cell_type": "markdown",
   "id": "6f11b765-2922-4c20-8c72-e9fd604749cc",
   "metadata": {},
   "source": [
    "# Kernel Level Profiling"
   ]
  },
  {
   "cell_type": "markdown",
   "id": "d63f7649",
   "metadata": {},
   "source": [
    "We start by compiling and executing our application to make sure that its results still match our expectations."
   ]
  },
  {
   "cell_type": "code",
   "execution_count": null,
   "id": "5756bebb",
   "metadata": {},
   "outputs": [],
   "source": [
    "!nvc++ -O3 -march=native -std=c++17 -mp=gpu -target=gpu ../src/stencil-2d/stencil-2d-omp-target-v1.cpp -o ../build/stencil-2d-omp-target-v1"
   ]
  },
  {
   "cell_type": "code",
   "execution_count": null,
   "id": "801fc077",
   "metadata": {},
   "outputs": [],
   "source": [
    "!../build/stencil-2d-omp-target-v1 double 8192 8192 2 256"
   ]
  },
  {
   "cell_type": "markdown",
   "id": "5f222d36-81d1-4ebe-8a1f-b32c85c185d9",
   "metadata": {
    "jp-MarkdownHeadingCollapsed": true,
    "tags": []
   },
   "source": [
    "## Nsight Compute CLI"
   ]
  },
  {
   "cell_type": "markdown",
   "id": "3254e66d",
   "metadata": {},
   "source": [
    "Next, we profile the application using the CLI of Nsight Compute: `ncu`.\n",
    "Command line arguments are:\n",
    "* `-o ...`: sets the target output profile file (equivalent to `nsys`)\n",
    "* `--force-overwrite`: replaces the profile file if it already exists (in contrast to `nsys` no `=true`)\n",
    "\n",
    "All command line arguments are listed in the [documentation](https://docs.nvidia.com/nsight-compute/NsightComputeCli/index.html#profile).\n",
    "\n",
    "Without an output file, results are printed to the command line."
   ]
  },
  {
   "cell_type": "markdown",
   "id": "be2215cc",
   "metadata": {},
   "source": [
    "Note that we also decrease the number of iterations since by default *every kernel* is profiled."
   ]
  },
  {
   "cell_type": "code",
   "execution_count": null,
   "id": "852b3db9",
   "metadata": {
    "tags": []
   },
   "outputs": [],
   "source": [
    "!ncu ../build/stencil-2d-omp-target-v1 double 8192 8192 2 2"
   ]
  },
  {
   "cell_type": "markdown",
   "id": "7bc61c24",
   "metadata": {},
   "source": [
    "We can further limit the scope of profiled kernels with\n",
    "* `--launch-skip n` or `-s n`: skips the first `n` kernels encountered\n",
    "* `--launch-count n` or `-c n`: limits profiling to the first `n` applicable kernels\n",
    "* `--kernel name` or `-k name`: limits profiling to kernels with the name `name`\n",
    "  * can also be used with regex, e.g. `-k regex:\"*stencil2d*\"`\n",
    "  * Nsight Compute also supports kernel renaming"
   ]
  },
  {
   "cell_type": "code",
   "execution_count": null,
   "id": "5a5036fa",
   "metadata": {},
   "outputs": [],
   "source": [
    "!ncu -s 2 -c 1 ../build/stencil-2d-omp-target-v1 double 8192 8192 2 2"
   ]
  },
  {
   "cell_type": "markdown",
   "id": "ef62c3a1",
   "metadata": {
    "jp-MarkdownHeadingCollapsed": true,
    "tags": []
   },
   "source": [
    "### Potential Output"
   ]
  },
  {
   "cell_type": "markdown",
   "id": "b686f9a4",
   "metadata": {},
   "source": [
    "```bash\n",
    "  nvkernel__Z9stencil2dIdEvPKT_PS0_mm_F2L5_14 (64, 1, 1)x(128, 1, 1), Context 1, Stream 13, Device 0, CC 8.6\n",
    "    Section: GPU Speed Of Light Throughput\n",
    "    ----------------------- ----------- ------------\n",
    "    Metric Name             Metric Unit Metric Value\n",
    "    ----------------------- ----------- ------------\n",
    "    DRAM Frequency                  Ghz         7.24\n",
    "    SM Frequency                    Ghz         1.30\n",
    "    Elapsed Cycles                cycle      9309966\n",
    "    Memory Throughput                 %        43.05\n",
    "    DRAM Throughput                   %        21.77\n",
    "    Duration                         ms         7.13\n",
    "    L1/TEX Cache Throughput           %        58.12\n",
    "    L2 Cache Throughput               %        35.90\n",
    "    SM Active Cycles              cycle   6889985.05\n",
    "    Compute (SM) Throughput           %        17.17\n",
    "    ----------------------- ----------- ------------\n",
    "\n",
    "    OPT   This kernel grid is too small to fill the available resources on this device, resulting in only 0.1 full\n",
    "          waves across all SMs. Look at Launch Statistics for more details.\n",
    "```"
   ]
  },
  {
   "cell_type": "markdown",
   "id": "1ee998f8",
   "metadata": {},
   "source": [
    "```bash\n",
    "    Section: Launch Statistics\n",
    "    -------------------------------- --------------- ---------------\n",
    "    Metric Name                          Metric Unit    Metric Value\n",
    "    -------------------------------- --------------- ---------------\n",
    "    Block Size                                                   128\n",
    "    Function Cache Configuration                     CachePreferNone\n",
    "    Grid Size                                                     64\n",
    "    Registers Per Thread             register/thread              48\n",
    "    Shared Memory Configuration Size           Kbyte           16.38\n",
    "    Driver Shared Memory Per Block       Kbyte/block            1.02\n",
    "    Dynamic Shared Memory Per Block       byte/block               0\n",
    "    Static Shared Memory Per Block        byte/block               0\n",
    "    # SMs                                         SM              84\n",
    "    Threads                                   thread            8192\n",
    "    Uses Green Context                                             0\n",
    "    Waves Per SM                                                0.08\n",
    "    -------------------------------- --------------- ---------------\n",
    "\n",
    "    OPT   Est. Speedup: 23.81%\n",
    "          The grid for this launch is configured to execute only 64 blocks, which is less than the GPU's 84\n",
    "          multiprocessors. This can underutilize some multiprocessors. If you do not intend to execute this kernel\n",
    "          concurrently with other workloads, consider reducing the block size to have at least one block per\n",
    "          multiprocessor or increase the size of the grid to fully utilize the available hardware resources. See the\n",
    "          Hardware Model (https://docs.nvidia.com/nsight-compute/ProfilingGuide/index.html#metrics-hw-model)\n",
    "          description for more details on launch configurations.\n",
    "```"
   ]
  },
  {
   "cell_type": "markdown",
   "id": "5a828e39",
   "metadata": {},
   "source": [
    "```bash\n",
    "    Section: Occupancy\n",
    "    ------------------------------- ----------- ------------\n",
    "    Metric Name                     Metric Unit Metric Value\n",
    "    ------------------------------- ----------- ------------\n",
    "    Block Limit SM                        block           16\n",
    "    Block Limit Registers                 block           10\n",
    "    Block Limit Shared Mem                block           16\n",
    "    Block Limit Warps                     block           12\n",
    "    Theoretical Active Warps per SM        warp           40\n",
    "    Theoretical Occupancy                     %        83.33\n",
    "    Achieved Occupancy                        %         8.33\n",
    "    Achieved Active Warps Per SM           warp         4.00\n",
    "    ------------------------------- ----------- ------------\n",
    "\n",
    "    OPT   Est. Local Speedup: 90.01%\n",
    "          The difference between calculated theoretical (83.3%) and measured achieved occupancy (8.3%) can be the\n",
    "          result of warp scheduling overheads or workload imbalances during the kernel execution. Load imbalances can\n",
    "          occur between warps within a block as well as across blocks of the same kernel. See the CUDA Best Practices\n",
    "          Guide (https://docs.nvidia.com/cuda/cuda-c-best-practices-guide/index.html#occupancy) for more details on\n",
    "          optimizing occupancy.\n",
    "```"
   ]
  },
  {
   "cell_type": "markdown",
   "id": "263bd40d",
   "metadata": {},
   "source": [
    "```bash\n",
    "    Section: GPU and Memory Workload Distribution\n",
    "    -------------------------- ----------- ------------\n",
    "    Metric Name                Metric Unit Metric Value\n",
    "    -------------------------- ----------- ------------\n",
    "    Average DRAM Active Cycles       cycle  11247889.33\n",
    "    Total DRAM Elapsed Cycles        cycle    620130304\n",
    "    Average L1 Active Cycles         cycle   6889985.05\n",
    "    Total L1 Elapsed Cycles          cycle    781393884\n",
    "    Average L2 Active Cycles         cycle   8747615.29\n",
    "    Total L2 Elapsed Cycles          cycle    421197072\n",
    "    Average SM Active Cycles         cycle   6889985.05\n",
    "    Total SM Elapsed Cycles          cycle    781393884\n",
    "    Average SMSP Active Cycles       cycle   6883894.44\n",
    "    Total SMSP Elapsed Cycles        cycle   3125575536\n",
    "    -------------------------- ----------- ------------\n",
    "\n",
    "    OPT   Est. Speedup: 19.18%\n",
    "          One or more SMs have a much lower number of active cycles than the average number of active cycles. Maximum\n",
    "          instance value is 25.89% above the average, while the minimum instance value is 100.00% below the average.\n",
    "    ----- --------------------------------------------------------------------------------------------------------------\n",
    "    OPT   Est. Speedup: 19.19%\n",
    "          One or more SMSPs have a much lower number of active cycles than the average number of active cycles. Maximum\n",
    "          instance value is 25.94% above the average, while the minimum instance value is 100.00% below the average.\n",
    "    ----- --------------------------------------------------------------------------------------------------------------\n",
    "    OPT   Est. Speedup: 19.18%\n",
    "          One or more L1 Slices have a much lower number of active cycles than the average number of active cycles.\n",
    "          Maximum instance value is 25.89% above the average, while the minimum instance value is 100.00% below the\n",
    "          average.\n",
    "```"
   ]
  },
  {
   "cell_type": "markdown",
   "id": "61f55885",
   "metadata": {},
   "source": [
    "### Exercise"
   ]
  },
  {
   "cell_type": "markdown",
   "id": "1a90096b",
   "metadata": {},
   "source": [
    "Have a look at the speed of light (SOL) output and try to pinpoint performance issues, as well as their main contributor."
   ]
  },
  {
   "cell_type": "markdown",
   "id": "37a5d2e2",
   "metadata": {
    "jp-MarkdownHeadingCollapsed": true,
    "tags": []
   },
   "source": [
    "### Solution"
   ]
  },
  {
   "cell_type": "markdown",
   "id": "0f6c9714",
   "metadata": {},
   "source": [
    "Nsight Compute rightfully reports that none of the usual performance limiters (FLOPS, MEM, ...) are fully utilized showing an underperforming applications.\n",
    "The tool also tries to give developers hints into potentially useful optimizations or reasons for lacking performance.\n",
    "In this case these hints are useful (which might not always be the case):\n",
    "* The occupancy is very low which is a results of having only one fraction of a wave.\n",
    "* This stems from a low number of CUDA blocks, lower than the number of SMs even."
   ]
  },
  {
   "cell_type": "markdown",
   "id": "b5b5ef99",
   "metadata": {
    "jp-MarkdownHeadingCollapsed": true,
    "tags": []
   },
   "source": [
    "## Stencil Code Optimization 2"
   ]
  },
  {
   "cell_type": "markdown",
   "id": "72bad457",
   "metadata": {},
   "source": [
    "One first attempt to increase the number of blocks could be reducing the block size.\n",
    "OpenMP supports this by specifying the `num_threads` clause.\n",
    "The updated code is available at [stencil-2d-omp-target-v2](../src/stencil-2d/stencil-2d-omp-target-v2.cpp), and can be compiled, executed and profiled with the following cells."
   ]
  },
  {
   "cell_type": "code",
   "execution_count": null,
   "id": "61c6c90b",
   "metadata": {},
   "outputs": [],
   "source": [
    "!nvc++ -O3 -march=native -std=c++17 -mp=gpu -target=gpu ../src/stencil-2d/stencil-2d-omp-target-v2.cpp -o ../build/stencil-2d-omp-target-v2"
   ]
  },
  {
   "cell_type": "code",
   "execution_count": null,
   "id": "7f0eb8a9",
   "metadata": {},
   "outputs": [],
   "source": [
    "!../build/stencil-2d-omp-target-v2 double 8192 8192 2 256"
   ]
  },
  {
   "cell_type": "code",
   "execution_count": null,
   "id": "84199746",
   "metadata": {},
   "outputs": [],
   "source": [
    "!ncu -s 2 -c 1 ../build/stencil-2d-omp-target-v2 double 8192 8192 2 2"
   ]
  },
  {
   "cell_type": "markdown",
   "id": "f170c727",
   "metadata": {
    "jp-MarkdownHeadingCollapsed": true,
    "tags": []
   },
   "source": [
    "### Potential Output"
   ]
  },
  {
   "cell_type": "markdown",
   "id": "fbe558fd",
   "metadata": {},
   "source": [
    "```bash\n",
    "  nvkernel__Z9stencil2dIdEvPKT_PS0_mm_F2L5_14 (128, 1, 1)x(64, 1, 1), Context 1, Stream 13, Device 0, CC 8.6\n",
    "    Section: GPU Speed Of Light Throughput\n",
    "    ----------------------- ----------- ------------\n",
    "    Metric Name             Metric Unit Metric Value\n",
    "    ----------------------- ----------- ------------\n",
    "    DRAM Frequency                  Ghz         7.24\n",
    "    SM Frequency                    Ghz         1.30\n",
    "    Elapsed Cycles                cycle      9322846\n",
    "    Memory Throughput                 %        43.03\n",
    "    DRAM Throughput                   %        21.74\n",
    "    Duration                         ms         7.14\n",
    "    L1/TEX Cache Throughput           %        51.57\n",
    "    L2 Cache Throughput               %        35.91\n",
    "    SM Active Cycles              cycle   7762959.54\n",
    "    Compute (SM) Throughput           %        17.17\n",
    "    ----------------------- ----------- ------------\n",
    "\n",
    "    OPT   This kernel grid is too small to fill the available resources on this device, resulting in only 0.1 full\n",
    "          waves across all SMs. Look at Launch Statistics for more details.\n",
    "```"
   ]
  },
  {
   "cell_type": "markdown",
   "id": "cb39ced8",
   "metadata": {},
   "source": [
    "```bash\n",
    "    Section: Launch Statistics\n",
    "    -------------------------------- --------------- ---------------\n",
    "    Metric Name                          Metric Unit    Metric Value\n",
    "    -------------------------------- --------------- ---------------\n",
    "    Block Size                                                    64\n",
    "    Function Cache Configuration                     CachePreferNone\n",
    "    Grid Size                                                    128\n",
    "    Registers Per Thread             register/thread              48\n",
    "    Shared Memory Configuration Size           Kbyte           16.38\n",
    "    Driver Shared Memory Per Block       Kbyte/block            1.02\n",
    "    Dynamic Shared Memory Per Block       byte/block               0\n",
    "    Static Shared Memory Per Block        byte/block               0\n",
    "    # SMs                                         SM              84\n",
    "    Threads                                   thread            8192\n",
    "    Uses Green Context                                             0\n",
    "    Waves Per SM                                                0.10\n",
    "    -------------------------------- --------------- ---------------\n",
    "\n",
    "    OPT   If you execute __syncthreads() to synchronize the threads of a block, it is recommended to have more than the\n",
    "          achieved 1 blocks per multiprocessor. This way, blocks that aren't waiting for __syncthreads() can keep the\n",
    "          hardware busy.\n",
    "```"
   ]
  },
  {
   "cell_type": "markdown",
   "id": "303c74f8",
   "metadata": {},
   "source": [
    "```bash\n",
    "    Section: Occupancy\n",
    "    ------------------------------- ----------- ------------\n",
    "    Metric Name                     Metric Unit Metric Value\n",
    "    ------------------------------- ----------- ------------\n",
    "    Block Limit SM                        block           16\n",
    "    Block Limit Registers                 block           20\n",
    "    Block Limit Shared Mem                block           16\n",
    "    Block Limit Warps                     block           24\n",
    "    Theoretical Active Warps per SM        warp           32\n",
    "    Theoretical Occupancy                     %        66.67\n",
    "    Achieved Occupancy                        %         6.71\n",
    "    Achieved Active Warps Per SM           warp         3.22\n",
    "    ------------------------------- ----------- ------------\n",
    "\n",
    "    OPT   Est. Local Speedup: 89.93%\n",
    "          The difference between calculated theoretical (66.7%) and measured achieved occupancy (6.7%) can be the\n",
    "          result of warp scheduling overheads or workload imbalances during the kernel execution. Load imbalances can\n",
    "          occur between warps within a block as well as across blocks of the same kernel. See the CUDA Best Practices\n",
    "          Guide (https://docs.nvidia.com/cuda/cuda-c-best-practices-guide/index.html#occupancy) for more details on\n",
    "          optimizing occupancy.\n",
    "    ----- --------------------------------------------------------------------------------------------------------------\n",
    "    OPT   Est. Local Speedup: 33.33%\n",
    "          The 8.00 theoretical warps per scheduler this kernel can issue according to its occupancy are below the\n",
    "          hardware maximum of 12. This kernel's theoretical occupancy (66.7%) is limited by the number of blocks that\n",
    "          can fit on the SM. This kernel's theoretical occupancy (66.7%) is limited by the required amount of shared\n",
    "          memory.\n",
    "```"
   ]
  },
  {
   "cell_type": "markdown",
   "id": "7ce7f028",
   "metadata": {},
   "source": [
    "```bash\n",
    "    Section: GPU and Memory Workload Distribution\n",
    "    -------------------------- ----------- ------------\n",
    "    Metric Name                Metric Unit Metric Value\n",
    "    -------------------------- ----------- ------------\n",
    "    Average DRAM Active Cycles       cycle  11249669.33\n",
    "    Total DRAM Elapsed Cycles        cycle    620989440\n",
    "    Average L1 Active Cycles         cycle   7762959.54\n",
    "    Total L1 Elapsed Cycles          cycle    781549776\n",
    "    Average L2 Active Cycles         cycle   8760143.08\n",
    "    Total L2 Elapsed Cycles          cycle    421780848\n",
    "    Average SM Active Cycles         cycle   7762959.54\n",
    "    Total SM Elapsed Cycles          cycle    781549776\n",
    "    Average SMSP Active Cycles       cycle   6252614.98\n",
    "    Total SMSP Elapsed Cycles        cycle   3126199104\n",
    "    -------------------------- ----------- ------------\n",
    "\n",
    "    OPT   Est. Speedup: 13.81%\n",
    "          One or more SMs have a much lower number of active cycles than the average number of active cycles. Maximum\n",
    "          instance value is 16.55% above the average, while the minimum instance value is 19.57% below the average.\n",
    "    ----- --------------------------------------------------------------------------------------------------------------\n",
    "    OPT   Est. Speedup: 22.03%\n",
    "          One or more SMSPs have a much lower number of active cycles than the average number of active cycles. Maximum\n",
    "          instance value is 32.78% above the average, while the minimum instance value is 100.00% below the average.\n",
    "    ----- --------------------------------------------------------------------------------------------------------------\n",
    "    OPT   Est. Speedup: 13.81%\n",
    "          One or more L1 Slices have a much lower number of active cycles than the average number of active cycles.\n",
    "          Maximum instance value is 16.55% above the average, while the minimum instance value is 19.57% below the\n",
    "          average.\n",
    "```"
   ]
  },
  {
   "cell_type": "markdown",
   "id": "1a85a5af",
   "metadata": {},
   "source": [
    "### Interpretation"
   ]
  },
  {
   "cell_type": "markdown",
   "id": "2256b9c6",
   "metadata": {},
   "source": [
    "While our application now utilized all SMs, the other part of the previous problem - not enough (full) waves and a low occupancy - has not been fixed.\n",
    "As such, the performance is still comparatively low as well."
   ]
  },
  {
   "cell_type": "markdown",
   "id": "b03947db",
   "metadata": {
    "jp-MarkdownHeadingCollapsed": true,
    "tags": []
   },
   "source": [
    "## Stencil Code Optimization 3"
   ]
  },
  {
   "cell_type": "markdown",
   "id": "b83fc89b",
   "metadata": {},
   "source": [
    "To increase the number of threads we need to generate more parallelism.\n",
    "Luckily, simply associating more loops with our OpenMP construct serves exactly that purpose.\n",
    "The updated code is available at [stencil-2d-omp-target-v3](../src/stencil-2d/stencil-2d-omp-target-v3.cpp), and can be compiled, executed and profiled with the following cells."
   ]
  },
  {
   "cell_type": "code",
   "execution_count": null,
   "id": "921668d2",
   "metadata": {},
   "outputs": [],
   "source": [
    "!nvc++ -O3 -march=native -std=c++17 -mp=gpu -target=gpu ../src/stencil-2d/stencil-2d-omp-target-v3.cpp -o ../build/stencil-2d-omp-target-v3"
   ]
  },
  {
   "cell_type": "code",
   "execution_count": null,
   "id": "e36069a0",
   "metadata": {},
   "outputs": [],
   "source": [
    "!../build/stencil-2d-omp-target-v3 double 8192 8192 2 256"
   ]
  },
  {
   "cell_type": "code",
   "execution_count": null,
   "id": "20ea3425",
   "metadata": {},
   "outputs": [],
   "source": [
    "!ncu -s 2 -c 1 ../build/stencil-2d-omp-target-v3 double 8192 8192 2 2"
   ]
  },
  {
   "cell_type": "markdown",
   "id": "e4f8e51d",
   "metadata": {
    "jp-MarkdownHeadingCollapsed": true,
    "tags": []
   },
   "source": [
    "### Potential Output"
   ]
  },
  {
   "cell_type": "markdown",
   "id": "0ecc857a",
   "metadata": {},
   "source": [
    "```bash\n",
    "  nvkernel__Z9stencil2dIdEvPKT_PS0_mm_F2L5_14 (524033, 1, 1)x(128, 1, 1), Context 1, Stream 13, Device 0, CC 8.6\n",
    "    Section: GPU Speed Of Light Throughput\n",
    "    ----------------------- ----------- ------------\n",
    "    Metric Name             Metric Unit Metric Value\n",
    "    ----------------------- ----------- ------------\n",
    "    DRAM Frequency                  Ghz         7.24\n",
    "    SM Frequency                    Ghz         1.30\n",
    "    Elapsed Cycles                cycle      2128981\n",
    "    Memory Throughput                 %        94.55\n",
    "    DRAM Throughput                   %        94.55\n",
    "    Duration                         ms         1.63\n",
    "    L1/TEX Cache Throughput           %        37.26\n",
    "    L2 Cache Throughput               %        72.76\n",
    "    SM Active Cycles              cycle   2126581.36\n",
    "    Compute (SM) Throughput           %        75.00\n",
    "    ----------------------- ----------- ------------\n",
    "\n",
    "    INF   The kernel is utilizing greater than 80.0% of the available compute or memory performance of the device. To\n",
    "          further improve performance, work will likely need to be shifted from the most utilized to another unit.\n",
    "          Start by analyzing DRAM in the Memory Workload Analysis section.\n",
    "```"
   ]
  },
  {
   "cell_type": "markdown",
   "id": "f462db23",
   "metadata": {},
   "source": [
    "```bash\n",
    "    Section: Launch Statistics\n",
    "    -------------------------------- --------------- ---------------\n",
    "    Metric Name                          Metric Unit    Metric Value\n",
    "    -------------------------------- --------------- ---------------\n",
    "    Block Size                                                   128\n",
    "    Function Cache Configuration                     CachePreferNone\n",
    "    Grid Size                                                 524033\n",
    "    Registers Per Thread             register/thread              46\n",
    "    Shared Memory Configuration Size           Kbyte           16.38\n",
    "    Driver Shared Memory Per Block       Kbyte/block            1.02\n",
    "    Dynamic Shared Memory Per Block       byte/block               0\n",
    "    Static Shared Memory Per Block        byte/block               0\n",
    "    # SMs                                         SM              84\n",
    "    Threads                                   thread        67076224\n",
    "    Uses Green Context                                             0\n",
    "    Waves Per SM                                              623.85\n",
    "    -------------------------------- --------------- ---------------\n",
    "```"
   ]
  },
  {
   "cell_type": "markdown",
   "id": "13e2e92b",
   "metadata": {},
   "source": [
    "```bash\n",
    "    Section: Occupancy\n",
    "    ------------------------------- ----------- ------------\n",
    "    Metric Name                     Metric Unit Metric Value\n",
    "    ------------------------------- ----------- ------------\n",
    "    Block Limit SM                        block           16\n",
    "    Block Limit Registers                 block           10\n",
    "    Block Limit Shared Mem                block           16\n",
    "    Block Limit Warps                     block           12\n",
    "    Theoretical Active Warps per SM        warp           40\n",
    "    Theoretical Occupancy                     %        83.33\n",
    "    Achieved Occupancy                        %        73.26\n",
    "    Achieved Active Warps Per SM           warp        35.17\n",
    "    ------------------------------- ----------- ------------\n",
    "\n",
    "    OPT   Est. Local Speedup: 12.08%\n",
    "          The difference between calculated theoretical (83.3%) and measured achieved occupancy (73.3%) can be the\n",
    "          result of warp scheduling overheads or workload imbalances during the kernel execution. Load imbalances can\n",
    "          occur between warps within a block as well as across blocks of the same kernel. See the CUDA Best Practices\n",
    "          Guide (https://docs.nvidia.com/cuda/cuda-c-best-practices-guide/index.html#occupancy) for more details on\n",
    "          optimizing occupancy.\n",
    "```"
   ]
  },
  {
   "cell_type": "markdown",
   "id": "6eb51426",
   "metadata": {},
   "source": [
    "```bash\n",
    "    Section: GPU and Memory Workload Distribution\n",
    "    -------------------------- ----------- ------------\n",
    "    Metric Name                Metric Unit Metric Value\n",
    "    -------------------------- ----------- ------------\n",
    "    Average DRAM Active Cycles       cycle  11177070.67\n",
    "    Total DRAM Elapsed Cycles        cycle    141852672\n",
    "    Average L1 Active Cycles         cycle   2126581.36\n",
    "    Total L1 Elapsed Cycles          cycle    178860480\n",
    "    Average L2 Active Cycles         cycle   2001744.83\n",
    "    Total L2 Elapsed Cycles          cycle     96347664\n",
    "    Average SM Active Cycles         cycle   2126581.36\n",
    "    Total SM Elapsed Cycles          cycle    178860480\n",
    "    Average SMSP Active Cycles       cycle   2126465.98\n",
    "    Total SMSP Elapsed Cycles        cycle    715441920\n",
    "    -------------------------- ----------- ------------\n",
    "```"
   ]
  },
  {
   "cell_type": "markdown",
   "id": "480960dd",
   "metadata": {},
   "source": [
    "### Exercise"
   ]
  },
  {
   "cell_type": "markdown",
   "id": "b0b74e10",
   "metadata": {},
   "source": [
    "Investigate the output for the optimized version.\n",
    "Has the previous issue been addressed?\n",
    "What is the main performance limiter now?"
   ]
  },
  {
   "cell_type": "markdown",
   "id": "5557175d",
   "metadata": {
    "jp-MarkdownHeadingCollapsed": true,
    "tags": []
   },
   "source": [
    "### Solution"
   ]
  },
  {
   "cell_type": "markdown",
   "id": "e355debb",
   "metadata": {},
   "source": [
    "That looks already way better - DRAM utilization is now close to 100% and the main bottleneck."
   ]
  },
  {
   "cell_type": "markdown",
   "id": "a189b811",
   "metadata": {
    "jp-MarkdownHeadingCollapsed": true,
    "tags": []
   },
   "source": [
    "## Further Nsight Compute Options"
   ]
  },
  {
   "cell_type": "markdown",
   "id": "1467ab34",
   "metadata": {},
   "source": [
    "The default configuration of Nsight Compute captures only a small subset of the metrics available.\n",
    "To alter this, different **sections** and **sets** are available, in addition to specifying own metric lists."
   ]
  },
  {
   "cell_type": "markdown",
   "id": "6f629549",
   "metadata": {
    "jp-MarkdownHeadingCollapsed": true,
    "tags": []
   },
   "source": [
    "### Sections"
   ]
  },
  {
   "cell_type": "markdown",
   "id": "1f65a93a",
   "metadata": {},
   "source": [
    "The available sections can be queried with"
   ]
  },
  {
   "cell_type": "code",
   "execution_count": null,
   "id": "48a45b1d",
   "metadata": {},
   "outputs": [],
   "source": [
    "!ncu --list-sections > ../profiles/sections.txt"
   ]
  },
  {
   "cell_type": "code",
   "execution_count": null,
   "id": "cf0d3c88",
   "metadata": {},
   "outputs": [],
   "source": [
    "!cat ../profiles/sections.txt"
   ]
  },
  {
   "cell_type": "markdown",
   "id": "8e2742e3",
   "metadata": {},
   "source": [
    "and used with the `--section` parameter"
   ]
  },
  {
   "cell_type": "code",
   "execution_count": null,
   "id": "eccc1048",
   "metadata": {},
   "outputs": [],
   "source": [
    "!ncu -s 2 -c 1 --section=SpeedOfLight ../build/stencil-2d-omp-target-v3 double 8192 8192 2 2"
   ]
  },
  {
   "cell_type": "markdown",
   "id": "9d25192e",
   "metadata": {
    "jp-MarkdownHeadingCollapsed": true,
    "tags": []
   },
   "source": [
    "### Sets"
   ]
  },
  {
   "cell_type": "markdown",
   "id": "1d7e6cd3",
   "metadata": {},
   "source": [
    "In many cases, multiple sections are required concurrently.\n",
    "Sets provide an interface for the most relevant combinations.\n",
    "As before, they can be queried directly from `ncu` and then used with the corresponding command line argument."
   ]
  },
  {
   "cell_type": "code",
   "execution_count": null,
   "id": "d126c8d2",
   "metadata": {},
   "outputs": [],
   "source": [
    "!ncu --list-sets > ../profiles/sets.txt"
   ]
  },
  {
   "cell_type": "code",
   "execution_count": null,
   "id": "9a71c4d3",
   "metadata": {},
   "outputs": [],
   "source": [
    "!cat ../profiles/sets.txt"
   ]
  },
  {
   "cell_type": "code",
   "execution_count": null,
   "id": "4ff1786d",
   "metadata": {},
   "outputs": [],
   "source": [
    "!ncu -s 2 -c 1 --set=roofline ../build/stencil-2d-omp-target-v3 double 8192 8192 2 2"
   ]
  },
  {
   "cell_type": "markdown",
   "id": "06164e72",
   "metadata": {},
   "source": [
    "If further information are necessary, the section definitions included in the Nsight Compute distribution can be helpful.\n",
    "After locating them, the can simply be read."
   ]
  },
  {
   "cell_type": "code",
   "execution_count": null,
   "id": "327b71f7",
   "metadata": {},
   "outputs": [],
   "source": [
    "!ll $NVHPC_ROOT/Linux_x86_64/23.7/profilers/Nsight_Compute/sections/"
   ]
  },
  {
   "cell_type": "code",
   "execution_count": null,
   "id": "42ae67f8",
   "metadata": {},
   "outputs": [],
   "source": [
    "!cat $NVHPC_ROOT/Linux_x86_64/23.7/profilers/Nsight_Compute/sections/SpeedOfLight.section"
   ]
  },
  {
   "cell_type": "markdown",
   "id": "608d51c4",
   "metadata": {
    "jp-MarkdownHeadingCollapsed": true,
    "tags": []
   },
   "source": [
    "### Metrics"
   ]
  },
  {
   "cell_type": "markdown",
   "id": "b102fa60",
   "metadata": {},
   "source": [
    "In some cases, directly accessing very specific metrics can be helpful.\n",
    "For instance, for doing automatic benchmarking or to keep profiling overheads low.\n",
    "\n",
    "Additional material is available on the [metrics structure](https://docs.nvidia.com/nsight-compute/ProfilingGuide/index.html#metrics-structure), as well as a [list of key metrics](https://docs.nvidia.com/nsight-compute/NsightComputeCli/index.html#nvprof-metric-comparison)."
   ]
  },
  {
   "cell_type": "code",
   "execution_count": null,
   "id": "dd90fa66",
   "metadata": {},
   "outputs": [],
   "source": [
    "!ncu --list-metrics > ../profiles/metrics.txt"
   ]
  },
  {
   "cell_type": "code",
   "execution_count": null,
   "id": "27c737c3",
   "metadata": {},
   "outputs": [],
   "source": [
    "!cat ../profiles/metrics.txt"
   ]
  },
  {
   "cell_type": "markdown",
   "id": "b6485212",
   "metadata": {},
   "source": [
    "Relevant metrics include (but are not limited to)\n",
    "* `sm__warps_active.avg.pct_of_peak_sustained_active` displays the achieved occupancy.\n",
    "* `dram__bytes_read` and `dram__bytes_write` correspond to the bytes read from and written to DRAM. This can be\n",
    "    extended with `.sum` to obtain the total volume and `.sum.per_second` to obtain the bandwidth.\n",
    "* `smsp__sass_thread_inst_executed_op_{dadd, dmul, dfma}_pred_on.sum` represents the total executed additions,\n",
    "    multiplications and fused multiply-adds in double precision. The total number of FLOPs in double precision can be\n",
    "    computed with `dadd + dmul + 2 * dfma`.\n",
    "* `lts__t_bytes_equiv_l1sectormiss_pipe_lsu_mem_global_op_{ld, st}.sum` can be used to query the L2\n",
    "    cache load and store volumes."
   ]
  },
  {
   "cell_type": "code",
   "execution_count": null,
   "id": "374c51d5",
   "metadata": {},
   "outputs": [],
   "source": [
    "!ncu -s 2 -c 1 --metrics \\\n",
    "sm__warps_active.avg.pct_of_peak_sustained_active,\\\n",
    "dram__bytes_read.sum,dram__bytes_write.sum,\\\n",
    "dram__bytes_read.sum.per_second,dram__bytes_write.sum.per_second,\\\n",
    "smsp__sass_thread_inst_executed_op_dadd_pred_on.sum,smsp__sass_thread_inst_executed_op_dmul_pred_on.sum,smsp__sass_thread_inst_executed_op_dfma_pred_on.sum,\\\n",
    "smsp__sass_thread_inst_executed_op_dadd_pred_on.sum.per_second,smsp__sass_thread_inst_executed_op_dmul_pred_on.sum.per_second,smsp__sass_thread_inst_executed_op_dfma_pred_on.sum.per_second \\\n",
    "../build/stencil-2d-omp-target-v3 double 8192 8192 2 2"
   ]
  },
  {
   "cell_type": "markdown",
   "id": "aeea7a0f",
   "metadata": {},
   "source": [
    "For counting metrics (e.g. bytes transferred) the structure is usually `metric.sum`.\n",
    "For corresponding rates this can be extended to `metric.sum.per_second`.\n",
    "This can also be recomputed in terms of percentage of theoretical peak performance with `metric.sum.pct_of_peak_sustained_elapsed`.\n",
    "\n",
    "Available metrics can be queried with (example for A100)"
   ]
  },
  {
   "cell_type": "code",
   "execution_count": null,
   "id": "54724a3b",
   "metadata": {},
   "outputs": [],
   "source": [
    "!ncu --query-metrics --chip ga100 > ../profiles/metrics.ga100.txt"
   ]
  },
  {
   "cell_type": "markdown",
   "id": "40bbf794",
   "metadata": {},
   "source": [
    "and with additional filters (e.g. only metrics starting with a certain string)"
   ]
  },
  {
   "cell_type": "code",
   "execution_count": null,
   "id": "639757ca",
   "metadata": {},
   "outputs": [],
   "source": [
    "!ncu --query-metrics-mode suffix --metrics sm__inst_executed --chip ga100"
   ]
  },
  {
   "cell_type": "markdown",
   "id": "a3671072",
   "metadata": {},
   "source": [
    "A small collection of useful metrics is collected in [metrics](metrics.md)."
   ]
  },
  {
   "cell_type": "markdown",
   "id": "15a7fb2c",
   "metadata": {
    "jp-MarkdownHeadingCollapsed": true,
    "tags": []
   },
   "source": [
    "## Nsight Compute GUI"
   ]
  },
  {
   "cell_type": "markdown",
   "id": "ef8b2392",
   "metadata": {},
   "source": [
    "While the command line interface for Nsight Compute is quite powerful, in many cases a more structured and explorable way of presenting the obtained data is advantageous.\n",
    "In this case, the Nsight Compute GUI can be a helpful tool.\n",
    "We follow this pattern:\n",
    "* Profiling of our application with suitable sections/ sets remotely.\n",
    "* Downloading the profile data.\n",
    "* Opening it locally."
   ]
  },
  {
   "cell_type": "code",
   "execution_count": null,
   "id": "8cad34cb",
   "metadata": {},
   "outputs": [],
   "source": [
    "!nvc++ -O3 -march=native -std=c++17 -mp=gpu -target=gpu ../src/stencil-2d/stencil-2d-omp-target-v3.cpp -o ../build/stencil-2d-omp-target-v3"
   ]
  },
  {
   "cell_type": "code",
   "execution_count": null,
   "id": "4cbc2e8a",
   "metadata": {},
   "outputs": [],
   "source": [
    "!../build/stencil-2d-omp-target-v3 double 8192 8192 2 256"
   ]
  },
  {
   "cell_type": "code",
   "execution_count": null,
   "id": "e76599bd",
   "metadata": {},
   "outputs": [],
   "source": [
    "!ncu --set=full -o ../profiles/stencil-2d-omp-target-v3 --force-overwrite ../build/stencil-2d-omp-target-v3 double 8192 8192 2 2"
   ]
  },
  {
   "cell_type": "markdown",
   "id": "bad2a102",
   "metadata": {},
   "source": [
    "### Exercise"
   ]
  },
  {
   "cell_type": "markdown",
   "id": "7dfe7238",
   "metadata": {},
   "source": [
    "Take a moment to explore the different sections and options in the GUI.\n",
    "You might notice that the memory statistics section looks interesting.\n",
    "Is there anything that catches your eye?"
   ]
  },
  {
   "cell_type": "markdown",
   "id": "d3773d9a",
   "metadata": {
    "jp-MarkdownHeadingCollapsed": true,
    "tags": []
   },
   "source": [
    "### Solution"
   ]
  },
  {
   "cell_type": "markdown",
   "id": "3d585eb2",
   "metadata": {},
   "source": [
    "The memory statistics section reveals that data volumes from cache are quite high.\n",
    "This is an artefact of the thread distribution employed by OpenMP.\n",
    "To remedy this behavior, using (spatial) blocking techniques can be one option.\n",
    "Another is switching to CUDA which naturally allows having a 2D thread decomposition."
   ]
  },
  {
   "cell_type": "markdown",
   "id": "fc434a88",
   "metadata": {
    "jp-MarkdownHeadingCollapsed": true,
    "tags": []
   },
   "source": [
    "## Stencil Code Optimization 4"
   ]
  },
  {
   "cell_type": "markdown",
   "id": "c99d9535",
   "metadata": {},
   "source": [
    "The updated code is available at [stencil-2d-cuda-v4](../src/stencil-2d/stencil-2d-cuda-v4.cpp), and can be compiled, executed and profiled with the following cells."
   ]
  },
  {
   "cell_type": "code",
   "execution_count": null,
   "id": "86600c63",
   "metadata": {},
   "outputs": [],
   "source": [
    "!nvc++ -O3 -march=native -std=c++17 ../src/stencil-2d/stencil-2d-cuda-v4.cu -o ../build/stencil-2d-cuda-v4"
   ]
  },
  {
   "cell_type": "code",
   "execution_count": null,
   "id": "6d7cedc1",
   "metadata": {},
   "outputs": [],
   "source": [
    "!../build/stencil-2d-cuda-v4 double 1024 1024 2 256"
   ]
  },
  {
   "cell_type": "code",
   "execution_count": null,
   "id": "3576125b",
   "metadata": {},
   "outputs": [],
   "source": [
    "!ncu --set=full -o ../profiles/stencil-2d-cuda-v4 --force-overwrite ../build/stencil-2d-cuda-v4 double 8192 8192 2 2"
   ]
  },
  {
   "cell_type": "markdown",
   "id": "62573e93",
   "metadata": {},
   "source": [
    "### Exercise"
   ]
  },
  {
   "cell_type": "markdown",
   "id": "0dac0441",
   "metadata": {},
   "source": [
    "Compare this and the previous version in the GUI.\n",
    "You can also set a baseline to compare both in one view.\n",
    "How did the memory statistics section change?"
   ]
  },
  {
   "cell_type": "markdown",
   "id": "6fd6f879",
   "metadata": {
    "jp-MarkdownHeadingCollapsed": true,
    "tags": []
   },
   "source": [
    "## Stencil Code Optimization 5"
   ]
  },
  {
   "cell_type": "markdown",
   "id": "b36238c5",
   "metadata": {},
   "source": [
    "Our cache transfer volumes now look a lot better.\n",
    "One last optimization idea to maximize cache reuse is to map thread blocks forward and backward in alternating fashion.\n",
    "This aims at promoting data reuse - data that was *written last* is now *read first*.\n",
    "Unfortunately, examining the effect of this optimization is difficult with Nsight Compute since kernel profiling usually entails flushing all caches.\n",
    "\n",
    "This last version of our stencil application is available at [stencil-2d-cuda-v5](../src/stencil-2d/stencil-2d-cuda-v5.cu), and can be compiled, executed and profiled with the following cells."
   ]
  },
  {
   "cell_type": "code",
   "execution_count": null,
   "id": "6947d313",
   "metadata": {},
   "outputs": [],
   "source": [
    "!nvc++ -O3 -march=native -std=c++17 ../src/stencil-2d/stencil-2d-cuda-v5.cu -o ../build/stencil-2d-cuda-v5"
   ]
  },
  {
   "cell_type": "code",
   "execution_count": null,
   "id": "3a677787",
   "metadata": {},
   "outputs": [],
   "source": [
    "!../build/stencil-2d-cuda-v5 double 8192 8192 2 256"
   ]
  },
  {
   "cell_type": "markdown",
   "id": "4686570d-8880-4440-bf1b-82cead19e29b",
   "metadata": {},
   "source": [
    "For GPUs with a small L2 cache size, like the A40, performance improvements may be negligable for this problem size.\n",
    "The cell below executes both versions for a smaller problem size - can you identify performance optimizations for specific sizes?"
   ]
  },
  {
   "cell_type": "code",
   "execution_count": null,
   "id": "f8b996ee-3050-46a4-96c7-c47fdcde29f8",
   "metadata": {
    "tags": []
   },
   "outputs": [],
   "source": [
    "!../build/stencil-2d-cuda-v4 double 1024 1024 2 256\n",
    "!../build/stencil-2d-cuda-v5 double 1024 1024 2 256"
   ]
  },
  {
   "cell_type": "code",
   "execution_count": null,
   "id": "bc9180cd",
   "metadata": {},
   "outputs": [],
   "source": [
    "!ncu --set=full -o ../profiles/stencil-2d-cuda-v5 --force-overwrite ../build/stencil-2d-cuda-v5 double 8192 8192 2 2"
   ]
  },
  {
   "cell_type": "markdown",
   "id": "f54f3c85",
   "metadata": {},
   "source": [
    "Further optimization of this application will most likely not be successful since the main bottleneck - the DRAM bandwidth - is already well utilized for the problem sizes regarded.\n",
    "Additional performance improvements now require shifting this bottleneck.\n",
    "This could be done by simply switching to another GPU that features a higher bandwidth, or by applying algorithmic changes such as temporal blocking."
   ]
  },
  {
   "cell_type": "markdown",
   "id": "40a18ccb",
   "metadata": {
    "jp-MarkdownHeadingCollapsed": true,
    "tags": []
   },
   "source": [
    "## Next Step"
   ]
  },
  {
   "cell_type": "markdown",
   "id": "439e6733",
   "metadata": {},
   "source": [
    "After having learnt about various aspects of GPU performance engineering and optimization, it is now time to apply these skills to a more complicated application.\n",
    "Head over to the [Conjugate Gradient](./conjugate-gradient.ipynb) notebook to get started."
   ]
  }
 ],
 "metadata": {
  "kernelspec": {
   "display_name": "Python 3 (ipykernel)",
   "language": "python",
   "name": "python3"
  },
  "language_info": {
   "codemirror_mode": {
    "name": "ipython",
    "version": 3
   },
   "file_extension": ".py",
   "mimetype": "text/x-python",
   "name": "python",
   "nbconvert_exporter": "python",
   "pygments_lexer": "ipython3",
   "version": "3.11.3"
  }
 },
 "nbformat": 4,
 "nbformat_minor": 5
}
