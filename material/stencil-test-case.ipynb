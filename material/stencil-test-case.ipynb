{
 "cells": [
  {
   "cell_type": "markdown",
   "id": "93432c67-79a8-4a9f-aa6d-daab6cda03c6",
   "metadata": {},
   "source": [
    "# Use Case: 2D Stencil"
   ]
  },
  {
   "cell_type": "markdown",
   "id": "d2b8d662-8ee0-48b1-a085-ab7a4185e946",
   "metadata": {
    "jp-MarkdownHeadingCollapsed": true,
    "tags": []
   },
   "source": [
    "## CPU Baseline"
   ]
  },
  {
   "cell_type": "markdown",
   "id": "b0065b0b-f95c-4287-89b5-da1ea05a9451",
   "metadata": {},
   "source": [
    "We begin with a simple yet widely used benchmark: a 2D stencil application.\n",
    "It can be regarded as a proxy application for (matrix-free) matrix-vector multiplications, which are ubiquitous in HPC applications.\n",
    "\n",
    "A serial baseline *CPU-only* implementation can be found in [stencil-2d-base.cpp](../src/stencil-2d/stencil-2d-base.cpp).\n",
    "Reviewing the implementation reveals these key points:\n",
    "* The main workload is encapsulated in the `stencil2d` function.\n",
    "* The application can be parameterized with command line arguments (c.f. `parseCLA_2d` in [stencil-2d-util.h](../src/stencil-2d/stencil-2d-util.h)):\n",
    "  - **Data type**: `float` or `double`\n",
    "  - **nx, ny**: Grid dimensions, defining total workload (`nx * ny`)\n",
    "  - **nWarmUp**: Number of non-timed warm-up iterations\n",
    "  - **nIt**: Number of timed iterations\n",
    "* Basic diagnostic output of performance data is available via the `printStats` function in [util.h](../src/util.h)."
   ]
  },
  {
   "cell_type": "markdown",
   "id": "92959111",
   "metadata": {},
   "source": [
    "After reviewing the code, we can use the following commands to compile and execute the application:"
   ]
  },
  {
   "cell_type": "code",
   "execution_count": null,
   "id": "f5e02c5d-e842-4ae9-b5c8-a614a083f9bd",
   "metadata": {
    "tags": []
   },
   "outputs": [],
   "source": [
    "!g++ -O3 -march=native -std=c++17 ../src/stencil-2d/stencil-2d-base.cpp -o ../build/stencil-2d-base"
   ]
  },
  {
   "cell_type": "code",
   "execution_count": null,
   "id": "f1967421-1aa8-4c97-94c5-3510efe8ad2c",
   "metadata": {
    "tags": []
   },
   "outputs": [],
   "source": [
    "!../build/stencil-2d-base double 8192 8192 2 256"
   ]
  },
  {
   "cell_type": "markdown",
   "id": "a3edc8bc-2e58-4e47-b69b-7f5bf81e4e02",
   "metadata": {},
   "source": [
    "Next, we introduce OpenMP parallelization to enhance *CPU* performance.\n",
    "The updated version is available in [stencil-2d-omp-host.cpp](../src/stencil-2d/stencil-2d-omp-host.cpp), and can be compiled and executed using:"
   ]
  },
  {
   "cell_type": "code",
   "execution_count": null,
   "id": "27716aa9-81c7-41d4-a445-cfc5a941a103",
   "metadata": {},
   "outputs": [],
   "source": [
    "!g++ -O3 -march=native -std=c++17 -fopenmp ../src/stencil-2d/stencil-2d-omp-host.cpp -o ../build/stencil-2d-omp-host"
   ]
  },
  {
   "cell_type": "code",
   "execution_count": null,
   "id": "753892eb-dc3f-49ce-93ae-a5e4142550c0",
   "metadata": {},
   "outputs": [],
   "source": [
    "!../build/stencil-2d-omp-host double 8192 8192 2 256"
   ]
  },
  {
   "cell_type": "markdown",
   "id": "0ddd977e-059e-4dc5-9e7e-0382ca74410a",
   "metadata": {},
   "source": [
    "Depending on parameters set and hardware used, performance gains may vary, not be present at all, or you might even observe a performance degradation."
   ]
  },
  {
   "cell_type": "markdown",
   "id": "48d06fe2-f3fb-4b79-851d-690d1a5ae770",
   "metadata": {
    "jp-MarkdownHeadingCollapsed": true,
    "tags": []
   },
   "source": [
    "## First Attempt at GPU Acceleration"
   ]
  },
  {
   "cell_type": "markdown",
   "id": "ef9a8784-2033-4168-ac2c-d431dc239643",
   "metadata": {},
   "source": [
    "To offload computations to the GPU, we extend the code with OpenMP target offloading.\n",
    "In a first attempt, we limit code changes to the `stencil2d` function.\n",
    "The updated version is in [stencil-2d-omp-target-v0.cpp](../src/stencil-2d/stencil-2d-omp-target-v0.cpp)."
   ]
  },
  {
   "cell_type": "code",
   "execution_count": null,
   "id": "9fb499e6-f1bc-4fa7-95d7-7bf8de41527f",
   "metadata": {},
   "outputs": [],
   "source": [
    "!nvc++ -O3 -march=native -std=c++17 -mp=gpu -target=gpu ../src/stencil-2d/stencil-2d-omp-target-v0.cpp -o ../build/stencil-2d-omp-target-v0"
   ]
  },
  {
   "cell_type": "code",
   "execution_count": null,
   "id": "df1a84f3-e014-4865-838f-06c65ad7f2d0",
   "metadata": {},
   "outputs": [],
   "source": [
    "!../build/stencil-2d-omp-target-v0 double 8192 8192 2 256"
   ]
  },
  {
   "cell_type": "markdown",
   "id": "b63cc2c0-dee2-499f-b4a4-cb37dac9af46",
   "metadata": {},
   "source": [
    "Surprisingly, initial GPU performance is worse than the CPU baseline.\n",
    "While this outcome might not be surprising to you, especially if you have a background in using OpenMP target offloading, we pretend not to know about the pertaining issues for now."
   ]
  },
  {
   "cell_type": "markdown",
   "id": "03472c30",
   "metadata": {},
   "source": [
    "More importantly, we can now already *evaluate* performance, which can be useful to compare different variants of the same application.\n",
    "What is missing, however, are the answers to the following questions:\n",
    "* Could performance be better for this particular hard- and software combination?\n",
    "* If so, how can we pinpoint what optimizations need to be applied where to raise our performance levels?"
   ]
  },
  {
   "cell_type": "markdown",
   "id": "2af7e601",
   "metadata": {
    "jp-MarkdownHeadingCollapsed": true,
    "tags": []
   },
   "source": [
    "## Next Step"
   ]
  },
  {
   "cell_type": "markdown",
   "id": "506decd8-5c75-4e23-9f44-803634bba0da",
   "metadata": {},
   "source": [
    "The rest of this course will cover ways of *modelling* performance, tools and techniques to verify these models, and optimizations arising from insights gained from them.\n",
    "The core goal is to identify performance bottlenecks and explore ways to mitigate or shift them for better efficiency.\n",
    "\n",
    "Before we can start modeling, however, having a closer look at the underlying GPU architecture is worthwhile.\n",
    "Head over to the [GPU Architecture](./gpu-architecture.ipynb) notebook to get started."
   ]
  }
 ],
 "metadata": {
  "kernelspec": {
   "display_name": "Python 3 (ipykernel)",
   "language": "python",
   "name": "python3"
  },
  "language_info": {
   "codemirror_mode": {
    "name": "ipython",
    "version": 3
   },
   "file_extension": ".py",
   "mimetype": "text/x-python",
   "name": "python",
   "nbconvert_exporter": "python",
   "pygments_lexer": "ipython3",
   "version": "3.11.3"
  }
 },
 "nbformat": 4,
 "nbformat_minor": 5
}
